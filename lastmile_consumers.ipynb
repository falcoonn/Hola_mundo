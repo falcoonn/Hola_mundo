{
  "nbformat": 4,
  "nbformat_minor": 0,
  "metadata": {
    "colab": {
      "provenance": [],
      "authorship_tag": "ABX9TyPlozU/rTiPNcl0qMTfAhB9",
      "include_colab_link": true
    },
    "kernelspec": {
      "name": "python3",
      "display_name": "Python 3"
    },
    "language_info": {
      "name": "python"
    }
  },
  "cells": [
    {
      "cell_type": "markdown",
      "metadata": {
        "id": "view-in-github",
        "colab_type": "text"
      },
      "source": [
        "<a href=\"https://colab.research.google.com/github/falcoonn/Hola_mundo/blob/main/lastmile_consumers.ipynb\" target=\"_parent\"><img src=\"https://colab.research.google.com/assets/colab-badge.svg\" alt=\"Open In Colab\"/></a>"
      ]
    },
    {
      "cell_type": "code",
      "source": [
        "%pip install funpymodeling"
      ],
      "metadata": {
        "id": "2tbcSAt-dm3H",
        "colab": {
          "base_uri": "https://localhost:8080/"
        },
        "outputId": "af82d837-1e4e-43b4-d09f-32d89e6bdff7"
      },
      "execution_count": 3,
      "outputs": [
        {
          "output_type": "stream",
          "name": "stdout",
          "text": [
            "Looking in indexes: https://pypi.org/simple, https://us-python.pkg.dev/colab-wheels/public/simple/\n",
            "Requirement already satisfied: funpymodeling in /usr/local/lib/python3.7/dist-packages (0.1.7)\n",
            "Requirement already satisfied: typing-extensions<4.0.0,>=3.7.4 in /usr/local/lib/python3.7/dist-packages (from funpymodeling) (3.10.0.2)\n",
            "Requirement already satisfied: sklearn<0.1,>=0.0 in /usr/local/lib/python3.7/dist-packages (from funpymodeling) (0.0.post1)\n",
            "Requirement already satisfied: matplotlib<4.0.0,>=3.2.2 in /usr/local/lib/python3.7/dist-packages (from funpymodeling) (3.2.2)\n",
            "Requirement already satisfied: pandas<2.0.0,>=1.0.5 in /usr/local/lib/python3.7/dist-packages (from funpymodeling) (1.3.5)\n",
            "Requirement already satisfied: numpy<2.0.0,>=1.18.5 in /usr/local/lib/python3.7/dist-packages (from funpymodeling) (1.21.6)\n",
            "Requirement already satisfied: seaborn<0.11.0,>=0.10.1 in /usr/local/lib/python3.7/dist-packages (from funpymodeling) (0.10.1)\n",
            "Requirement already satisfied: kiwisolver>=1.0.1 in /usr/local/lib/python3.7/dist-packages (from matplotlib<4.0.0,>=3.2.2->funpymodeling) (1.4.4)\n",
            "Requirement already satisfied: cycler>=0.10 in /usr/local/lib/python3.7/dist-packages (from matplotlib<4.0.0,>=3.2.2->funpymodeling) (0.11.0)\n",
            "Requirement already satisfied: pyparsing!=2.0.4,!=2.1.2,!=2.1.6,>=2.0.1 in /usr/local/lib/python3.7/dist-packages (from matplotlib<4.0.0,>=3.2.2->funpymodeling) (3.0.9)\n",
            "Requirement already satisfied: python-dateutil>=2.1 in /usr/local/lib/python3.7/dist-packages (from matplotlib<4.0.0,>=3.2.2->funpymodeling) (2.8.2)\n",
            "Requirement already satisfied: pytz>=2017.3 in /usr/local/lib/python3.7/dist-packages (from pandas<2.0.0,>=1.0.5->funpymodeling) (2022.6)\n",
            "Requirement already satisfied: six>=1.5 in /usr/local/lib/python3.7/dist-packages (from python-dateutil>=2.1->matplotlib<4.0.0,>=3.2.2->funpymodeling) (1.15.0)\n",
            "Requirement already satisfied: scipy>=1.0.1 in /usr/local/lib/python3.7/dist-packages (from seaborn<0.11.0,>=0.10.1->funpymodeling) (1.7.3)\n"
          ]
        }
      ]
    },
    {
      "cell_type": "code",
      "source": [
        "#importamos papalerias\n",
        "import pandas as pd\n",
        "import numpy as np\n",
        "import matplotlib.pyplot as plt\n",
        "from funpymodeling.exploratory import freq_tbl"
      ],
      "metadata": {
        "id": "jc_w8i69dryE"
      },
      "execution_count": 4,
      "outputs": []
    },
    {
      "cell_type": "code",
      "source": [
        "from google.colab import files\n",
        "files.upload()"
      ],
      "metadata": {
        "id": "XrMrIQyrd2x8"
      },
      "execution_count": null,
      "outputs": []
    },
    {
      "cell_type": "code",
      "source": [
        "#leemos el archivo\n",
        "data1 = pd.read_csv(\"lastmile_delivery_operations_mit_lift_lab_serving_customer.csv\")\n",
        "data1"
      ],
      "metadata": {
        "id": "O1axMZSLd7m-"
      },
      "execution_count": null,
      "outputs": []
    },
    {
      "cell_type": "code",
      "source": [
        "#vemos su informacion\n",
        "data1.info()"
      ],
      "metadata": {
        "colab": {
          "base_uri": "https://localhost:8080/"
        },
        "id": "QSMHyuy5d_uM",
        "outputId": "ef445095-2842-4c1c-ee68-3be09ba12e35"
      },
      "execution_count": 7,
      "outputs": [
        {
          "output_type": "stream",
          "name": "stdout",
          "text": [
            "<class 'pandas.core.frame.DataFrame'>\n",
            "RangeIndex: 35 entries, 0 to 34\n",
            "Data columns (total 27 columns):\n",
            " #   Column                                  Non-Null Count  Dtype  \n",
            "---  ------                                  --------------  -----  \n",
            " 0   _child_record_id                        35 non-null     object \n",
            " 1   _record_id                              35 non-null     object \n",
            " 2   _parent_id                              35 non-null     object \n",
            " 3   _title                                  35 non-null     object \n",
            " 4   _version                                35 non-null     int64  \n",
            " 5   _created_at                             35 non-null     object \n",
            " 6   _updated_at                             35 non-null     object \n",
            " 7   _created_by                             35 non-null     object \n",
            " 8   _updated_by                             35 non-null     object \n",
            " 9   _index                                  35 non-null     int64  \n",
            " 10  _geometry                               35 non-null     object \n",
            " 11  _latitude                               35 non-null     float64\n",
            " 12  _longitude                              35 non-null     float64\n",
            " 13  _changeset_id                           35 non-null     object \n",
            " 14  _created_duration                       35 non-null     int64  \n",
            " 15  _updated_duration                       35 non-null     int64  \n",
            " 16  _edited_duration                        35 non-null     int64  \n",
            " 17  name_of_the_store                       35 non-null     object \n",
            " 18  entering_the_store                      35 non-null     object \n",
            " 19  number_of_customers_in_store            35 non-null     int64  \n",
            " 20  number_of_suppliers_in_store            35 non-null     int64  \n",
            " 21  picture_cargo_being_delivered           25 non-null     object \n",
            " 22  picture_cargo_being_delivered_captions  2 non-null      object \n",
            " 23  picture_cargo_being_delivered_urls      25 non-null     object \n",
            " 24  number_of_cases_boxes_delivered         35 non-null     int64  \n",
            " 25  trolley_in_use                          35 non-null     object \n",
            " 26  leaving_the_store                       35 non-null     object \n",
            "dtypes: float64(2), int64(8), object(17)\n",
            "memory usage: 7.5+ KB\n"
          ]
        }
      ]
    },
    {
      "cell_type": "code",
      "source": [
        "#Verificamos los valores nulos\n",
        "valores_nulos=data1.isnull().sum()\n",
        "valores_nulos"
      ],
      "metadata": {
        "id": "_SOTgwEceIL_"
      },
      "execution_count": null,
      "outputs": []
    },
    {
      "cell_type": "code",
      "source": [
        "#reemplazamos los valores nulos con la palabra nulo\n",
        "data=data1.copy()\n",
        "data[\"picture_cargo_being_delivered\"] =data[\"picture_cargo_being_delivered\"].fillna(\"nulo\")\n",
        "data[\"picture_cargo_being_delivered_captions\"] =data[\"picture_cargo_being_delivered_captions\"].fillna(\"nulo\")\n",
        "data[\"picture_cargo_being_delivered_urls\"] =data[\"picture_cargo_being_delivered_urls\"].fillna(\"nulo\")"
      ],
      "metadata": {
        "id": "7h3U-Eb3eL30"
      },
      "execution_count": 10,
      "outputs": []
    },
    {
      "cell_type": "code",
      "source": [
        "#verificamos valores nulos\n",
        "valores_nulos=data.isnull().sum()\n",
        "valores_nulos"
      ],
      "metadata": {
        "id": "DaflIyY-ers6"
      },
      "execution_count": null,
      "outputs": []
    },
    {
      "cell_type": "code",
      "source": [
        "#aplicamos filtro\n",
        "filtro1=data.iloc[ : , [0,1,2,3,5,6,7,8,10,13,17,18,21,22,23,25,26]] #obj\n",
        "filtro2=data.iloc[ : , [4,9,14,15,16,19,20,24]]    #int\n",
        "filtro3=data.iloc[ : , [11,12]]     #float"
      ],
      "metadata": {
        "id": "9FUEelZaewyp"
      },
      "execution_count": 12,
      "outputs": []
    },
    {
      "cell_type": "code",
      "source": [
        "#hacemos una grafica de valores atipicos\n",
        "fig = plt.figure(figsize =(15, 8))\n",
        "filtro2.plot(kind='box', vert=False)\n",
        "plt.title(\"Valores Atípicos del Dataframe\")\n",
        "plt.show()"
      ],
      "metadata": {
        "id": "ZcO_sCR2e4iw",
        "colab": {
          "base_uri": "https://localhost:8080/",
          "height": 299
        },
        "outputId": "fd96fb77-76f9-4d68-9588-63e5eacce073"
      },
      "execution_count": 13,
      "outputs": [
        {
          "output_type": "display_data",
          "data": {
            "text/plain": [
              "<Figure size 1080x576 with 0 Axes>"
            ]
          },
          "metadata": {}
        },
        {
          "output_type": "display_data",
          "data": {
            "text/plain": [
              "<Figure size 432x288 with 1 Axes>"
            ],
            "image/png": "[encoded data removed]"
          },
          "metadata": {
            "needs_background": "light"
          }
        }
      ]
    },
    {
      "cell_type": "code",
      "source": [
        "#hacemos uso del metodo de cuartiles \n",
        "y=filtro2\n",
        "\n",
        "percentile25=y.quantile(0.25) #Q1\n",
        "percentile75=y.quantile(0.75) #Q3\n",
        "iqr= percentile75 - percentile25\n",
        "\n",
        "Limite_Superior_iqr= percentile75 + 1.5*iqr\n",
        "Limite_Inferior_iqr= percentile25 - 1.5*iqr\n",
        "print(\"Limite superior permitido\", Limite_Superior_iqr)\n",
        "print(\"Limite inferior permitido\", Limite_Inferior_iqr)"
      ],
      "metadata": {
        "id": "2LHtPvsyfBWE"
      },
      "execution_count": null,
      "outputs": []
    },
    {
      "cell_type": "code",
      "source": [
        "#mostramos los limites \n",
        "outliers_iqr= filtro2[(y<=Limite_Superior_iqr)&(y>=Limite_Inferior_iqr)]\n",
        "outliers_iqr"
      ],
      "metadata": {
        "id": "sIvArCG7f4NY"
      },
      "execution_count": null,
      "outputs": []
    },
    {
      "cell_type": "code",
      "source": [
        "#Reemplazamos valores atipicos (nulos) del dataframe con \"mean\"\n",
        "#Realizamos una copia del dataframe \n",
        "Valores_finales= outliers_iqr.copy()\n",
        "Valores_finales=Valores_finales.fillna(round(outliers_iqr.mean(),1))\n",
        "Valores_finales"
      ],
      "metadata": {
        "id": "5WpC6ioyfa44"
      },
      "execution_count": null,
      "outputs": []
    },
    {
      "cell_type": "code",
      "source": [
        "#vemos los valores nulos\n",
        "valores_nulos=Valores_finales.isnull().sum()\n",
        "valores_nulos"
      ],
      "metadata": {
        "id": "3rLi8nEIgDtz"
      },
      "execution_count": null,
      "outputs": []
    },
    {
      "cell_type": "code",
      "source": [
        "#concatemos \n",
        "Consumer_limpios = pd.concat([filtro1, filtro2, filtro3], axis=1)\n",
        "Consumer_limpios"
      ],
      "metadata": {
        "id": "oqi7uaDcgIKf"
      },
      "execution_count": null,
      "outputs": []
    },
    {
      "cell_type": "code",
      "source": [
        "#Convertir DataFrame a CSV\n",
        "Consumer_limpios.to_csv(\"Consumer_limpios.csv\")"
      ],
      "metadata": {
        "id": "uZhzKTg4irya"
      },
      "execution_count": 19,
      "outputs": []
    },
    {
      "cell_type": "code",
      "source": [
        "#Descargar archivo filtrado en csv \n",
        "from google.colab import files\n",
        "files.download(\"Consumer_limpios.csv\")"
      ],
      "metadata": {
        "colab": {
          "base_uri": "https://localhost:8080/",
          "height": 17
        },
        "id": "nKWeNdJSi2GU",
        "outputId": "e259a7c6-7e15-4e5a-9850-68d75a24b20e"
      },
      "execution_count": null,
      "outputs": [
        {
          "output_type": "display_data",
          "data": {
            "text/plain": [
              "<IPython.core.display.Javascript object>"
            ],
            "application/javascript": [
              "\n",
              "    async function download(id, filename, size) {\n",
              "      if (!google.colab.kernel.accessAllowed) {\n",
              "        return;\n",
              "      }\n",
              "      const div = document.createElement('div');\n",
              "      const label = document.createElement('label');\n",
              "      label.textContent = `Downloading \"${filename}\": `;\n",
              "      div.appendChild(label);\n",
              "      const progress = document.createElement('progress');\n",
              "      progress.max = size;\n",
              "      div.appendChild(progress);\n",
              "      document.body.appendChild(div);\n",
              "\n",
              "      const buffers = [];\n",
              "      let downloaded = 0;\n",
              "\n",
              "      const channel = await google.colab.kernel.comms.open(id);\n",
              "      // Send a message to notify the kernel that we're ready.\n",
              "      channel.send({})\n",
              "\n",
              "      for await (const message of channel.messages) {\n",
              "        // Send a message to notify the kernel that we're ready.\n",
              "        channel.send({})\n",
              "        if (message.buffers) {\n",
              "          for (const buffer of message.buffers) {\n",
              "            buffers.push(buffer);\n",
              "            downloaded += buffer.byteLength;\n",
              "            progress.value = downloaded;\n",
              "          }\n",
              "        }\n",
              "      }\n",
              "      const blob = new Blob(buffers, {type: 'application/binary'});\n",
              "      const a = document.createElement('a');\n",
              "      a.href = window.URL.createObjectURL(blob);\n",
              "      a.download = filename;\n",
              "      div.appendChild(a);\n",
              "      a.click();\n",
              "      div.remove();\n",
              "    }\n",
              "  "
            ]
          },
          "metadata": {}
        },
        {
          "output_type": "display_data",
          "data": {
            "text/plain": [
              "<IPython.core.display.Javascript object>"
            ],
            "application/javascript": [
              "download(\"download_87b5ba61-c201-4c1f-aa2d-55890f0e8cd5\", \"Consumer_limpios.csv\", 51852)"
            ]
          },
          "metadata": {}
        }
      ]
    }
  ]
}